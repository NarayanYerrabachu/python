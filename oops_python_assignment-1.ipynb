{
 "cells": [
  {
   "cell_type": "markdown",
   "metadata": {},
   "source": [
    "OOPS\n",
    "1.\tWrite code to create a class named Employee\n",
    "    -\tIt should have a constructor that takes name and salary as parameters and stores them in the object.\n",
    "    -\tMake sure that when we print the object it Employees name and salary."
   ]
  },
  {
   "cell_type": "code",
   "execution_count": 7,
   "metadata": {},
   "outputs": [
    {
     "name": "stdout",
     "output_type": "stream",
     "text": [
      "Name: Narayan Yerrabachu, Salary: 84000\n"
     ]
    }
   ],
   "source": [
    "class Employee:\n",
    "    def __init__(self,name,salary):        \n",
    "        self.name=name\n",
    "        self.salary=salary\n",
    "        \n",
    "        \n",
    "    def __str__(self): #__str__ method is useful for string representation of the object\n",
    "        return \"Name: {0}, Salary: {1}\".format(self.name,self.salary)\n",
    "        \n",
    "        \n",
    "        \n",
    "#obj name= Name of the class()\n",
    "emp=Employee(\"Narayan Yerrabachu\",84000)\n",
    "\n",
    "print(emp)"
   ]
  },
  {
   "cell_type": "markdown",
   "metadata": {},
   "source": [
    "2.\tWrite code to create a class named Calculator\n",
    "    - Define methods for addition, subtraction, multiplication and division that take in two numbers and return another   number       after performing their respective operations.\n",
    "   "
   ]
  },
  {
   "cell_type": "code",
   "execution_count": 11,
   "metadata": {
    "scrolled": true
   },
   "outputs": [
    {
     "name": "stdout",
     "output_type": "stream",
     "text": [
      "Enter the first number: 5\n",
      "Enter the second number: 2\n",
      "7\n",
      "3\n",
      "10\n",
      "2.5\n"
     ]
    }
   ],
   "source": [
    "class Calculator:\n",
    "    def add(self,x,y):\n",
    "        return x+y\n",
    "    \n",
    "    def sub(self,x,y):\n",
    "        return x-y\n",
    "    \n",
    "    def mul(self,x,y):\n",
    "        return x*y\n",
    "    \n",
    "    def div(self,x,y):\n",
    "        return x/y\n",
    "a=int(input(\"Enter the first number: \"))\n",
    "b=int(input(\"Enter the second number: \"))\n",
    "calc=Calculator()\n",
    "print(calc.add(a,b))\n",
    "print(calc.sub(a,b))\n",
    "print(calc.mul(a,b))\n",
    "print(calc.div(a,b))"
   ]
  },
  {
   "cell_type": "code",
   "execution_count": 13,
   "metadata": {},
   "outputs": [
    {
     "name": "stdout",
     "output_type": "stream",
     "text": [
      "Enter the first number: 10\n",
      "Enter the second number: 10\n",
      "20\n",
      "0\n",
      "100\n",
      "1.0\n"
     ]
    }
   ],
   "source": [
    "class Calculator:\n",
    "    def __init__(self,x,y):\n",
    "        self.x=x\n",
    "        self.y=y\n",
    "        \n",
    "    def add(self):\n",
    "        return self.x+self.y\n",
    "    \n",
    "    def sub(self):\n",
    "        return self.x-self.y\n",
    "    \n",
    "    def mul(self):\n",
    "        return self.x*self.y\n",
    "    \n",
    "    def div(self):\n",
    "        return self.x/self.y\n",
    "a=int(input(\"Enter the first number: \"))\n",
    "b=int(input(\"Enter the second number: \"))\n",
    "calc=Calculator(a,b)\n",
    "print(calc.add())\n",
    "print(calc.sub())\n",
    "print(calc.mul())\n",
    "print(calc.div())"
   ]
  },
  {
   "cell_type": "markdown",
   "metadata": {},
   "source": [
    "2.\tWrite code to create a class named Calculator\n",
    "    \n",
    "    -\tDefine another method named execute_command that takes two numbers and a string named command. The command string will        be ‘add’, ‘sub’, ‘mul’, ‘div’. Perform Addition, Subtraction, Multiplication and Division on the two numbers                    respectively. Make sure the execute_commandmrthod is case insensitive (meaning that even if user passes ‘aDd’ as command        it should perform addition on two numbers)."
   ]
  },
  {
   "cell_type": "code",
   "execution_count": 19,
   "metadata": {},
   "outputs": [
    {
     "name": "stdout",
     "output_type": "stream",
     "text": [
      "Enter the command:suB\n",
      "Enter the first number: 10\n",
      "Enter the second number: 5\n",
      "5\n"
     ]
    }
   ],
   "source": [
    "class Calculator:\n",
    "    \n",
    "        \n",
    "    def add(self,x,y):\n",
    "        return x+y\n",
    "    \n",
    "    def sub(self,x,y):\n",
    "        return x-y\n",
    "    \n",
    "    def mul(self,x,y):\n",
    "        return x*y\n",
    "    \n",
    "    def div(self,x,y):\n",
    "        return x/y\n",
    "    \n",
    "    def execute_command(self,command,x,y):\n",
    "        \n",
    "        if command.lower()==\"add\":\n",
    "            return self.add(x,y)\n",
    "        elif command.lower()==\"sub\":\n",
    "            return self.sub(x,y)\n",
    "        elif command.lower()==\"mul\":\n",
    "            return self.mul(x,y)\n",
    "        elif command.lower()==\"div\":\n",
    "            return self.div(x,y)\n",
    "        \n",
    "com = input(\"Enter the command:\")   \n",
    "a=int(input(\"Enter the first number: \"))\n",
    "b=int(input(\"Enter the second number: \"))\n",
    "\n",
    "calc=Calculator()\n",
    "print(calc.execute_command(com,a,b))\n"
   ]
  },
  {
   "cell_type": "code",
   "execution_count": null,
   "metadata": {},
   "outputs": [],
   "source": []
  }
 ],
 "metadata": {
  "kernelspec": {
   "display_name": "Python 3",
   "language": "python",
   "name": "python3"
  },
  "language_info": {
   "codemirror_mode": {
    "name": "ipython",
    "version": 3
   },
   "file_extension": ".py",
   "mimetype": "text/x-python",
   "name": "python",
   "nbconvert_exporter": "python",
   "pygments_lexer": "ipython3",
   "version": "3.9.0"
  }
 },
 "nbformat": 4,
 "nbformat_minor": 4
}
